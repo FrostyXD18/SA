{
  "cells": [
    {
      "cell_type": "markdown",
      "source": [
        "# New Section"
      ],
      "metadata": {
        "id": "8BETMlhQZL8c"
      },
      "id": "8BETMlhQZL8c"
    },
    {
      "cell_type": "code",
      "source": [
        "import re\n",
        "import string\n",
        "import numpy as np\n",
        "import pandas as pd\n",
        "import matplotlib.pyplot as plt\n",
        "\n",
        "from sklearn.preprocessing import LabelEncoder\n",
        "from sklearn.model_selection import train_test_split\n",
        "\n",
        "from tensorflow.keras.utils import to_categorical\n",
        "from tensorflow.keras.preprocessing.text import Tokenizer\n",
        "from tensorflow.keras.preprocessing.sequence import pad_sequences\n",
        "\n",
        "from tensorflow.keras.optimizers import Adam\n",
        "from tensorflow.keras.models import Sequential\n",
        "from tensorflow.keras.callbacks import EarlyStopping\n",
        "from tensorflow.keras.layers import Dense, LSTM, Embedding, Bidirectional"
      ],
      "metadata": {
        "id": "CEiWzjAPWVYs"
      },
      "id": "CEiWzjAPWVYs",
      "execution_count": null,
      "outputs": []
    },
    {
      "cell_type": "code",
      "source": [
        "import nltk\n",
        "from nltk.corpus import wordnet\n",
        "from nltk.stem import WordNetLemmatizer\n",
        "nltk.download('wordnet')\n",
        "nltk.download('omw-1.4')"
      ],
      "metadata": {
        "colab": {
          "base_uri": "https://localhost:8080/"
        },
        "id": "7rFpunRRg5nW",
        "outputId": "64260211-9cce-4cc5-e1b8-1e374a055d33"
      },
      "id": "7rFpunRRg5nW",
      "execution_count": null,
      "outputs": [
        {
          "output_type": "stream",
          "name": "stderr",
          "text": [
            "[nltk_data] Downloading package wordnet to /root/nltk_data...\n",
            "[nltk_data] Downloading package omw-1.4 to /root/nltk_data...\n"
          ]
        },
        {
          "output_type": "execute_result",
          "data": {
            "text/plain": [
              "True"
            ]
          },
          "metadata": {},
          "execution_count": 2
        }
      ]
    },
    {
      "cell_type": "code",
      "execution_count": null,
      "id": "5f7714a0",
      "metadata": {
        "execution": {
          "iopub.execute_input": "2021-10-28T22:03:56.551349Z",
          "iopub.status.busy": "2021-10-28T22:03:56.550640Z",
          "iopub.status.idle": "2021-10-28T22:03:56.552770Z",
          "shell.execute_reply": "2021-10-28T22:03:56.553151Z",
          "shell.execute_reply.started": "2021-10-28T16:49:24.708271Z"
        },
        "papermill": {
          "duration": 0.017118,
          "end_time": "2021-10-28T22:03:56.553277",
          "exception": false,
          "start_time": "2021-10-28T22:03:56.536159",
          "status": "completed"
        },
        "tags": [],
        "id": "5f7714a0"
      },
      "outputs": [],
      "source": [
        "# Initialize lemmatizer\n",
        "lemmatizer = WordNetLemmatizer()\n",
        "\n",
        "# Text preprocessing function\n",
        "\n",
        "str_punc = string.punctuation.replace(',', '').replace(\"'\",'')\n",
        "\n",
        "def clean(text):\n",
        "    global str_punc\n",
        "    text = re.sub(r'[^a-zA-Z ]', '', text)\n",
        "    text = text.lower()\n",
        "    words = text.split()\n",
        "    lemmatized_words = [lemmatizer.lemmatize(word) for word in words]\n",
        "    return ' '.join(lemmatized_words)"
      ]
    },
    {
      "cell_type": "code",
      "execution_count": null,
      "id": "858eb45b",
      "metadata": {
        "execution": {
          "iopub.execute_input": "2021-10-28T22:03:56.580397Z",
          "iopub.status.busy": "2021-10-28T22:03:56.579859Z",
          "iopub.status.idle": "2021-10-28T22:03:56.744022Z",
          "shell.execute_reply": "2021-10-28T22:03:56.743141Z",
          "shell.execute_reply.started": "2021-10-28T17:00:39.849404Z"
        },
        "papermill": {
          "duration": 0.180689,
          "end_time": "2021-10-28T22:03:56.744157",
          "exception": false,
          "start_time": "2021-10-28T22:03:56.563468",
          "status": "completed"
        },
        "tags": [],
        "id": "858eb45b"
      },
      "outputs": [],
      "source": [
        "# Read dataset & Preprocess text\n",
        "df_train = pd.read_csv('train.txt', names=['Text', 'Emotion'], sep=';')\n",
        "df_val = pd.read_csv('val.txt', names=['Text', 'Emotion'], sep=';')\n",
        "df_test = pd.read_csv('test.txt', names=['Text', 'Emotion'], sep=';')\n",
        "\n",
        "X_train = df_train['Text'].apply(clean)\n",
        "y_train = df_train['Emotion']\n",
        "\n",
        "X_test = df_test['Text'].apply(clean)\n",
        "y_test = df_test['Emotion']\n",
        "\n",
        "X_val = df_val['Text'].apply(clean)\n",
        "y_val = df_val['Emotion']"
      ]
    },
    {
      "cell_type": "markdown",
      "source": [
        "# New Section"
      ],
      "metadata": {
        "id": "Hz6sq2c5X3lA"
      },
      "id": "Hz6sq2c5X3lA"
    },
    {
      "cell_type": "code",
      "execution_count": null,
      "id": "f3d52aea",
      "metadata": {
        "execution": {
          "iopub.execute_input": "2021-10-28T22:03:57.551792Z",
          "iopub.status.busy": "2021-10-28T22:03:57.550965Z",
          "iopub.status.idle": "2021-10-28T22:03:58.400120Z",
          "shell.execute_reply": "2021-10-28T22:03:58.399644Z",
          "shell.execute_reply.started": "2021-10-28T17:01:29.161484Z"
        },
        "papermill": {
          "duration": 0.866741,
          "end_time": "2021-10-28T22:03:58.400253",
          "exception": false,
          "start_time": "2021-10-28T22:03:57.533512",
          "status": "completed"
        },
        "tags": [],
        "id": "f3d52aea"
      },
      "outputs": [],
      "source": [
        "# Tokenize words\n",
        "tokenizer = Tokenizer()\n",
        "tokenizer.fit_on_texts(pd.concat([X_train, X_test], axis=0))\n",
        "\n",
        "\n",
        "sequences_train = tokenizer.texts_to_sequences(X_train)\n",
        "sequences_test = tokenizer.texts_to_sequences(X_test)\n",
        "sequences_val = tokenizer.texts_to_sequences(X_val)\n",
        "\n",
        "X_train = pad_sequences(sequences_train, maxlen=256, truncating='pre')\n",
        "X_test = pad_sequences(sequences_test, maxlen=256, truncating='pre')\n",
        "X_val = pad_sequences(sequences_val, maxlen=256, truncating='pre')"
      ]
    },
    {
      "cell_type": "code",
      "execution_count": null,
      "id": "f668a376",
      "metadata": {
        "execution": {
          "iopub.execute_input": "2021-10-28T22:03:56.774729Z",
          "iopub.status.busy": "2021-10-28T22:03:56.773803Z",
          "iopub.status.idle": "2021-10-28T22:03:57.481426Z",
          "shell.execute_reply": "2021-10-28T22:03:57.481975Z",
          "shell.execute_reply.started": "2021-10-28T17:00:42.264285Z"
        },
        "papermill": {
          "duration": 0.727475,
          "end_time": "2021-10-28T22:03:57.482135",
          "exception": false,
          "start_time": "2021-10-28T22:03:56.754660",
          "status": "completed"
        },
        "tags": [],
        "colab": {
          "base_uri": "https://localhost:8080/",
          "height": 1000
        },
        "id": "f668a376",
        "outputId": "0bbf6b2b-2c25-4b1e-f7a9-21e147142dfb"
      },
      "outputs": [
        {
          "output_type": "display_data",
          "data": {
            "text/plain": [
              "<Figure size 640x480 with 1 Axes>"
            ],
            "image/png": "[encoded data removed]"
          },
          "metadata": {}
        },
        {
          "output_type": "display_data",
          "data": {
            "text/plain": [
              "<Figure size 640x480 with 1 Axes>"
            ],
            "image/png": "[encoded data removed]"
          },
          "metadata": {}
        },
        {
          "output_type": "display_data",
          "data": {
            "text/plain": [
              "<Figure size 640x480 with 1 Axes>"
            ],
            "image/png": "[encoded data removed]"
          },
          "metadata": {}
        }
      ],
      "source": [
        "# Visualize classes counts\n",
        "colors = np.array([\"gray\", 'orangered', 'pink', 'gold', 'teal', 'cornflowerblue'])\n",
        "\n",
        "plt.bar(y_train.unique(), height=y_train.value_counts(), color=colors)\n",
        "plt.title(\"Training data - classes counts\")\n",
        "plt.show()\n",
        "\n",
        "plt.bar(y_test.unique(), height=y_test.value_counts(), color=colors)\n",
        "plt.title(\"Testing data - classes counts\")\n",
        "plt.show()\n",
        "\n",
        "plt.bar(y_val.unique(), height=y_val.value_counts(), color=colors)\n",
        "plt.title(\"Validation data - classes counts\")\n",
        "plt.show()"
      ]
    },
    {
      "cell_type": "code",
      "execution_count": null,
      "id": "1d002f96",
      "metadata": {
        "execution": {
          "iopub.execute_input": "2021-10-28T22:03:57.517184Z",
          "iopub.status.busy": "2021-10-28T22:03:57.515254Z",
          "iopub.status.idle": "2021-10-28T22:03:57.520913Z",
          "shell.execute_reply": "2021-10-28T22:03:57.521323Z",
          "shell.execute_reply.started": "2021-10-28T17:01:21.727018Z"
        },
        "papermill": {
          "duration": 0.026429,
          "end_time": "2021-10-28T22:03:57.521456",
          "exception": false,
          "start_time": "2021-10-28T22:03:57.495027",
          "status": "completed"
        },
        "tags": [],
        "id": "1d002f96",
        "colab": {
          "base_uri": "https://localhost:8080/"
        },
        "outputId": "d47f962d-6837-4b82-b8fb-672166e19801"
      },
      "outputs": [
        {
          "output_type": "stream",
          "name": "stdout",
          "text": [
            "Vocabulary size = 14452\n"
          ]
        }
      ],
      "source": [
        "# Encode labels\n",
        "\n",
        "le = LabelEncoder()\n",
        "y_train = le.fit_transform(y_train)\n",
        "y_test = le.transform(y_test)\n",
        "y_val = le.transform(y_val)\n",
        "\n",
        "y_train = to_categorical(y_train)\n",
        "y_test = to_categorical(y_test)\n",
        "y_val = to_categorical(y_val)\n",
        "\n",
        "vocabSize = len(tokenizer.index_word) + 1\n",
        "print(f\"Vocabulary size = {vocabSize}\")"
      ]
    },
    {
      "cell_type": "code",
      "source": [
        "!wget http://nlp.stanford.edu/data/glove.6B.zip\n",
        "!unzip glove*.zip"
      ],
      "metadata": {
        "colab": {
          "base_uri": "https://localhost:8080/"
        },
        "id": "vZV2SPVZ7wEz",
        "outputId": "284490d3-4715-4eff-dd67-7e19d6d69f42"
      },
      "id": "vZV2SPVZ7wEz",
      "execution_count": null,
      "outputs": [
        {
          "output_type": "stream",
          "name": "stdout",
          "text": [
            "--2024-07-06 11:53:25--  http://nlp.stanford.edu/data/glove.6B.zip\n",
            "Resolving nlp.stanford.edu (nlp.stanford.edu)... 171.64.67.140\n",
            "Connecting to nlp.stanford.edu (nlp.stanford.edu)|171.64.67.140|:80... connected.\n",
            "HTTP request sent, awaiting response... 302 Found\n",
            "Location: https://nlp.stanford.edu/data/glove.6B.zip [following]\n",
            "--2024-07-06 11:53:25--  https://nlp.stanford.edu/data/glove.6B.zip\n",
            "Connecting to nlp.stanford.edu (nlp.stanford.edu)|171.64.67.140|:443... connected.\n",
            "HTTP request sent, awaiting response... 301 Moved Permanently\n",
            "Location: https://downloads.cs.stanford.edu/nlp/data/glove.6B.zip [following]\n",
            "--2024-07-06 11:53:25--  https://downloads.cs.stanford.edu/nlp/data/glove.6B.zip\n",
            "Resolving downloads.cs.stanford.edu (downloads.cs.stanford.edu)... 171.64.64.22\n",
            "Connecting to downloads.cs.stanford.edu (downloads.cs.stanford.edu)|171.64.64.22|:443... connected.\n",
            "HTTP request sent, awaiting response... 200 OK\n",
            "Length: 862182613 (822M) [application/zip]\n",
            "Saving to: ‘glove.6B.zip’\n",
            "\n",
            "glove.6B.zip        100%[===================>] 822.24M  5.02MB/s    in 2m 39s  \n",
            "\n",
            "2024-07-06 11:56:05 (5.17 MB/s) - ‘glove.6B.zip’ saved [862182613/862182613]\n",
            "\n",
            "Archive:  glove.6B.zip\n",
            "  inflating: glove.6B.50d.txt        \n",
            "  inflating: glove.6B.100d.txt       \n",
            "  inflating: glove.6B.200d.txt       \n",
            "  inflating: glove.6B.300d.txt       \n"
          ]
        }
      ]
    },
    {
      "cell_type": "code",
      "execution_count": null,
      "id": "a2ee989a",
      "metadata": {
        "execution": {
          "iopub.execute_input": "2021-10-28T22:03:58.433128Z",
          "iopub.status.busy": "2021-10-28T22:03:58.432428Z",
          "iopub.status.idle": "2021-10-28T22:04:22.438636Z",
          "shell.execute_reply": "2021-10-28T22:04:22.439229Z",
          "shell.execute_reply.started": "2021-10-28T17:01:33.740619Z"
        },
        "papermill": {
          "duration": 24.026047,
          "end_time": "2021-10-28T22:04:22.439418",
          "exception": false,
          "start_time": "2021-10-28T22:03:58.413371",
          "status": "completed"
        },
        "tags": [],
        "colab": {
          "base_uri": "https://localhost:8080/"
        },
        "id": "a2ee989a",
        "outputId": "01c19a81-e492-4df3-cda0-078b678f7e2a"
      },
      "outputs": [
        {
          "output_type": "stream",
          "name": "stdout",
          "text": [
            "Found 400000 word vectors.\n",
            "Converted 13370 words (1081 misses)\n"
          ]
        }
      ],
      "source": [
        "# Read GloVE embeddings\n",
        "\n",
        "path_to_glove_file = 'glove.6B.200d.txt'\n",
        "num_tokens = vocabSize\n",
        "embedding_dim = 200\n",
        "hits = 0\n",
        "misses = 0\n",
        "embeddings_index = {}\n",
        "\n",
        "# Read word vectors\n",
        "with open(path_to_glove_file) as f:\n",
        "    for line in f:\n",
        "        word, coefs = line.split(maxsplit=1)\n",
        "        coefs = np.fromstring(coefs, \"f\", sep=\" \")\n",
        "        embeddings_index[word] = coefs\n",
        "print(\"Found %s word vectors.\" % len(embeddings_index))\n",
        "\n",
        "\n",
        "# Assign word vectors to our dictionary/vocabulary\n",
        "embedding_matrix = np.zeros((num_tokens, embedding_dim))\n",
        "for word, i in tokenizer.word_index.items():\n",
        "    embedding_vector = embeddings_index.get(word)\n",
        "    if embedding_vector is not None:\n",
        "        # Words not found in embedding index will be all-zeros.\n",
        "        # This includes the representation for \"padding\" and \"OOV\"\n",
        "        embedding_matrix[i] = embedding_vector\n",
        "        hits += 1\n",
        "    else:\n",
        "        misses += 1\n",
        "print(\"Converted %d words (%d misses)\" % (hits, misses))"
      ]
    },
    {
      "cell_type": "code",
      "execution_count": null,
      "id": "acdb86ed",
      "metadata": {
        "execution": {
          "iopub.execute_input": "2021-10-28T22:04:22.472619Z",
          "iopub.status.busy": "2021-10-28T22:04:22.471968Z",
          "iopub.status.idle": "2021-10-28T22:04:25.605754Z",
          "shell.execute_reply": "2021-10-28T22:04:25.606431Z",
          "shell.execute_reply.started": "2021-10-28T17:02:11.519339Z"
        },
        "papermill": {
          "duration": 3.153457,
          "end_time": "2021-10-28T22:04:25.606627",
          "exception": false,
          "start_time": "2021-10-28T22:04:22.453170",
          "status": "completed"
        },
        "tags": [],
        "colab": {
          "base_uri": "https://localhost:8080/"
        },
        "id": "acdb86ed",
        "outputId": "88edc46a-fe8e-4b1c-e8c0-d6bef74a810b"
      },
      "outputs": [
        {
          "output_type": "stream",
          "name": "stdout",
          "text": [
            "Model: \"sequential\"\n",
            "_________________________________________________________________\n",
            " Layer (type)                Output Shape              Param #   \n",
            "=================================================================\n",
            " embedding (Embedding)       (None, 256, 200)          2890400   \n",
            "                                                                 \n",
            " bidirectional (Bidirection  (None, 256, 512)          935936    \n",
            " al)                                                             \n",
            "                                                                 \n",
            " bidirectional_1 (Bidirecti  (None, 256, 256)          656384    \n",
            " onal)                                                           \n",
            "                                                                 \n",
            " bidirectional_2 (Bidirecti  (None, 256)               394240    \n",
            " onal)                                                           \n",
            "                                                                 \n",
            " dense (Dense)               (None, 6)                 1542      \n",
            "                                                                 \n",
            "=================================================================\n",
            "Total params: 4878502 (18.61 MB)\n",
            "Trainable params: 1988102 (7.58 MB)\n",
            "Non-trainable params: 2890400 (11.03 MB)\n",
            "_________________________________________________________________\n"
          ]
        }
      ],
      "source": [
        "# Build neural network architecture\n",
        "\n",
        "adam = Adam(learning_rate=0.005)\n",
        "\n",
        "model = Sequential()\n",
        "model.add(Embedding(vocabSize, 200, input_length=X_train.shape[1], weights=[embedding_matrix], trainable=False))\n",
        "model.add(Bidirectional(LSTM(256, dropout=0.2,recurrent_dropout=0.2, return_sequences=True)))\n",
        "model.add(Bidirectional(LSTM(128, dropout=0.2,recurrent_dropout=0.2, return_sequences=True)))\n",
        "model.add(Bidirectional(LSTM(128, dropout=0.2,recurrent_dropout=0.2)))\n",
        "model.add(Dense(6, activation='softmax'))\n",
        "\n",
        "model.compile(loss='categorical_crossentropy', optimizer=adam, metrics=['accuracy'])\n",
        "model.summary()"
      ]
    },
    {
      "cell_type": "code",
      "execution_count": null,
      "id": "cda9292a",
      "metadata": {
        "execution": {
          "iopub.execute_input": "2021-10-28T22:04:25.639616Z",
          "iopub.status.busy": "2021-10-28T22:04:25.639046Z",
          "iopub.status.idle": "2021-10-28T22:04:25.642392Z",
          "shell.execute_reply": "2021-10-28T22:04:25.642780Z",
          "shell.execute_reply.started": "2021-10-28T17:02:20.558037Z"
        },
        "papermill": {
          "duration": 0.021177,
          "end_time": "2021-10-28T22:04:25.642906",
          "exception": false,
          "start_time": "2021-10-28T22:04:25.621729",
          "status": "completed"
        },
        "tags": [],
        "id": "cda9292a"
      },
      "outputs": [],
      "source": [
        "callback = EarlyStopping(\n",
        "    monitor=\"val_loss\",\n",
        "    patience=2,\n",
        "    restore_best_weights=True,\n",
        ")"
      ]
    },
    {
      "cell_type": "code",
      "execution_count": null,
      "id": "ff49d9ac",
      "metadata": {
        "execution": {
          "iopub.execute_input": "2021-10-28T22:04:25.673966Z",
          "iopub.status.busy": "2021-10-28T22:04:25.673274Z",
          "iopub.status.idle": "2021-10-28T23:20:01.827222Z",
          "shell.execute_reply": "2021-10-28T23:20:01.826757Z",
          "shell.execute_reply.started": "2021-10-28T17:02:22.581141Z"
        },
        "papermill": {
          "duration": 4536.171191,
          "end_time": "2021-10-28T23:20:01.827358",
          "exception": false,
          "start_time": "2021-10-28T22:04:25.656167",
          "status": "completed"
        },
        "tags": [],
        "colab": {
          "base_uri": "https://localhost:8080/"
        },
        "id": "ff49d9ac",
        "outputId": "b634a599-5a78-44de-f29f-ad85c4cf86c2"
      },
      "outputs": [
        {
          "output_type": "stream",
          "name": "stdout",
          "text": [
            "Epoch 1/10\n",
            "63/63 [==============================] - 495s 8s/step - loss: 1.4708 - accuracy: 0.4339 - val_loss: 1.1700 - val_accuracy: 0.5625\n",
            "Epoch 2/10\n",
            "63/63 [==============================] - 501s 8s/step - loss: 1.0275 - accuracy: 0.6181 - val_loss: 0.7087 - val_accuracy: 0.7440\n",
            "Epoch 3/10\n",
            "63/63 [==============================] - 480s 8s/step - loss: 0.5848 - accuracy: 0.7968 - val_loss: 0.3815 - val_accuracy: 0.8730\n",
            "Epoch 4/10\n",
            "63/63 [==============================] - 491s 8s/step - loss: 0.2530 - accuracy: 0.9056 - val_loss: 0.2273 - val_accuracy: 0.9085\n",
            "Epoch 5/10\n",
            "63/63 [==============================] - 485s 8s/step - loss: 0.1656 - accuracy: 0.9305 - val_loss: 0.1736 - val_accuracy: 0.9220\n",
            "Epoch 6/10\n",
            "63/63 [==============================] - 489s 8s/step - loss: 0.1284 - accuracy: 0.9391 - val_loss: 0.1655 - val_accuracy: 0.9255\n",
            "Epoch 7/10\n",
            "63/63 [==============================] - 501s 8s/step - loss: 0.1081 - accuracy: 0.9484 - val_loss: 0.1973 - val_accuracy: 0.9235\n",
            "Epoch 8/10\n",
            "63/63 [==============================] - 494s 8s/step - loss: 0.1088 - accuracy: 0.9448 - val_loss: 0.1469 - val_accuracy: 0.9295\n",
            "Epoch 9/10\n",
            "63/63 [==============================] - 491s 8s/step - loss: 0.0863 - accuracy: 0.9578 - val_loss: 0.1705 - val_accuracy: 0.9310\n",
            "Epoch 10/10\n",
            "63/63 [==============================] - 487s 8s/step - loss: 0.0792 - accuracy: 0.9626 - val_loss: 0.1617 - val_accuracy: 0.9250\n"
          ]
        }
      ],
      "source": [
        "# Fit model\n",
        "history = model.fit(X_train,\n",
        "                    y_train,\n",
        "                    validation_data=(X_test, y_test),\n",
        "                    verbose=1,\n",
        "                    batch_size=256,\n",
        "                    epochs=10,\n",
        "                    callbacks=[callback]\n",
        "                   )"
      ]
    },
    {
      "cell_type": "code",
      "execution_count": null,
      "id": "806188df",
      "metadata": {
        "execution": {
          "iopub.execute_input": "2021-10-28T23:20:02.199902Z",
          "iopub.status.busy": "2021-10-28T23:20:02.199061Z",
          "iopub.status.idle": "2021-10-28T23:21:26.796715Z",
          "shell.execute_reply": "2021-10-28T23:21:26.795827Z",
          "shell.execute_reply.started": "2021-10-28T17:14:45.656399Z"
        },
        "papermill": {
          "duration": 84.78471,
          "end_time": "2021-10-28T23:21:26.797041",
          "exception": false,
          "start_time": "2021-10-28T23:20:02.012331",
          "status": "completed"
        },
        "tags": [],
        "id": "806188df",
        "outputId": "d88ba56e-341c-451a-9640-6da9dde32a5a",
        "colab": {
          "base_uri": "https://localhost:8080/"
        }
      },
      "outputs": [
        {
          "output_type": "stream",
          "name": "stdout",
          "text": [
            "63/63 [==============================] - 26s 413ms/step - loss: 0.1271 - accuracy: 0.9425\n"
          ]
        },
        {
          "output_type": "execute_result",
          "data": {
            "text/plain": [
              "[0.12711350619792938, 0.9424999952316284]"
            ]
          },
          "metadata": {},
          "execution_count": 13
        }
      ],
      "source": [
        "model.evaluate(X_val, y_val, verbose=1)"
      ]
    },
    {
      "cell_type": "code",
      "execution_count": null,
      "id": "ac04049c",
      "metadata": {
        "execution": {
          "iopub.execute_input": "2021-10-28T23:21:27.352847Z",
          "iopub.status.busy": "2021-10-28T23:21:27.351975Z",
          "iopub.status.idle": "2021-10-28T23:21:27.748054Z",
          "shell.execute_reply": "2021-10-28T23:21:27.748423Z",
          "shell.execute_reply.started": "2021-10-28T17:15:31.083557Z"
        },
        "papermill": {
          "duration": 0.606303,
          "end_time": "2021-10-28T23:21:27.748569",
          "exception": false,
          "start_time": "2021-10-28T23:21:27.142266",
          "status": "completed"
        },
        "tags": [],
        "id": "ac04049c",
        "outputId": "19302cfe-9c4b-466b-de0c-7e2b67b78155",
        "colab": {
          "base_uri": "https://localhost:8080/",
          "height": 887
        }
      },
      "outputs": [
        {
          "output_type": "display_data",
          "data": {
            "text/plain": [
              "<Figure size 640x480 with 1 Axes>"
            ],
            "image/png": "[encoded data removed]"
          },
          "metadata": {}
        },
        {
          "output_type": "display_data",
          "data": {
            "text/plain": [
              "<Figure size 640x480 with 1 Axes>"
            ],
            "image/png": "[encoded data removed]"
          },
          "metadata": {}
        }
      ],
      "source": [
        "# Visualize Loss & Accuracy\n",
        "\n",
        "%matplotlib inline\n",
        "import matplotlib.pyplot as plt\n",
        "acc = history.history['accuracy']\n",
        "val_acc = history.history['val_accuracy']\n",
        "loss = history.history['loss']\n",
        "val_loss = history.history['val_loss']\n",
        "\n",
        "epochs = range(len(acc))\n",
        "\n",
        "plt.plot(epochs, acc, 'r', label='Training accuracy')\n",
        "plt.plot(epochs, val_acc, 'b', label='Validation accuracy')\n",
        "plt.title('Training and validation accuracy')\n",
        "plt.legend()\n",
        "plt.figure()\n",
        "\n",
        "plt.plot(epochs, loss, 'r', label='Training Loss')\n",
        "plt.plot(epochs, val_loss, 'b', label='Validation Loss')\n",
        "plt.title('Training and validation loss')\n",
        "plt.legend()\n",
        "\n",
        "plt.show()"
      ]
    },
    {
      "cell_type": "code",
      "execution_count": null,
      "id": "8498e611",
      "metadata": {
        "execution": {
          "iopub.execute_input": "2021-10-28T23:21:28.154804Z",
          "iopub.status.busy": "2021-10-28T23:21:28.153964Z",
          "iopub.status.idle": "2021-10-28T23:21:32.811837Z",
          "shell.execute_reply": "2021-10-28T23:21:32.811150Z",
          "shell.execute_reply.started": "2021-10-28T17:15:46.845813Z"
        },
        "papermill": {
          "duration": 4.866031,
          "end_time": "2021-10-28T23:21:32.812013",
          "exception": false,
          "start_time": "2021-10-28T23:21:27.945982",
          "status": "completed"
        },
        "tags": [],
        "id": "8498e611",
        "outputId": "69483a62-069c-42e3-a76b-aa865a99270e",
        "colab": {
          "base_uri": "https://localhost:8080/"
        }
      },
      "outputs": [
        {
          "output_type": "stream",
          "name": "stdout",
          "text": [
            "Nowadays people only think about lying and cheating\n",
            "1/1 [==============================] - 1s 1s/step\n",
            "1/1 [==============================] - 0s 197ms/step\n",
            "anger : 0.4273497760295868\n",
            "\n",
            "\n",
            "Your point on this certain matter made me outrageous, how can you say so? This is insane.\n",
            "1/1 [==============================] - 0s 216ms/step\n",
            "1/1 [==============================] - 0s 202ms/step\n",
            "anger : 0.8379302620887756\n",
            "\n",
            "\n",
            "I can't do it, I'm not ready to lose anything, just leave me alone\n",
            "1/1 [==============================] - 0s 202ms/step\n",
            "1/1 [==============================] - 0s 193ms/step\n",
            "sadness : 0.3340452015399933\n",
            "\n",
            "\n",
            "Merlin's beard harry, you can cast the Patronus charm! I'm amazed!\n",
            "1/1 [==============================] - 0s 195ms/step\n",
            "1/1 [==============================] - 0s 181ms/step\n",
            "surprise : 0.8700460195541382\n",
            "\n",
            "\n"
          ]
        }
      ],
      "source": [
        "# Classify custom sample\n",
        "\n",
        "sentences = [\n",
        "            \"Nowadays people only think about lying and cheating\",\n",
        "            \"Your point on this certain matter made me outrageous, how can you say so? This is insane.\",\n",
        "            \"I can't do it, I'm not ready to lose anything, just leave me alone\",\n",
        "            \"Merlin's beard harry, you can cast the Patronus charm! I'm amazed!\"\n",
        "            ]\n",
        "for sentence in sentences:\n",
        "    print(sentence)\n",
        "    sentence = clean(sentence)\n",
        "    sentence = tokenizer.texts_to_sequences([sentence])\n",
        "    sentence = pad_sequences(sentence, maxlen=256, truncating='pre')\n",
        "    result = le.inverse_transform(np.argmax(model.predict(sentence), axis=-1))[0]\n",
        "    proba =  np.max(model.predict(sentence))\n",
        "    print(f\"{result} : {proba}\\n\\n\")"
      ]
    },
    {
      "cell_type": "code",
      "source": [
        "# Calculate accuracy, precision, recall, and F1 score\n",
        "from sklearn.metrics import classification_report, accuracy_score\n",
        "\n",
        "# Predict the labels for the validation set\n",
        "y_pred_val = model.predict(X_val)\n",
        "y_pred_val_classes = np.argmax(y_pred_val, axis=1)\n",
        "y_true_val_classes = np.argmax(y_val, axis=1)\n",
        "\n",
        "# Calculate accuracy, precision, recall, and F1 score\n",
        "accuracy = accuracy_score(y_true_val_classes, y_pred_val_classes)\n",
        "report = classification_report(y_true_val_classes, y_pred_val_classes, target_names=le.classes_)\n",
        "\n",
        "print(f\"Accuracy: {accuracy:.4f}\")\n",
        "print(\"\\nClassification Report:\\n\", report)"
      ],
      "metadata": {
        "colab": {
          "base_uri": "https://localhost:8080/"
        },
        "id": "CVv-f8-94rIY",
        "outputId": "51abf028-0a8d-417d-bc7b-16b7c426e60e"
      },
      "id": "CVv-f8-94rIY",
      "execution_count": null,
      "outputs": [
        {
          "output_type": "stream",
          "name": "stdout",
          "text": [
            "63/63 [==============================] - 27s 421ms/step\n",
            "Accuracy: 0.9425\n",
            "\n",
            "Classification Report:\n",
            "               precision    recall  f1-score   support\n",
            "\n",
            "       anger       0.94      0.94      0.94       275\n",
            "        fear       0.87      0.92      0.90       212\n",
            "         joy       0.95      0.97      0.96       704\n",
            "        love       0.93      0.85      0.89       178\n",
            "     sadness       0.97      0.97      0.97       550\n",
            "    surprise       0.98      0.77      0.86        81\n",
            "\n",
            "    accuracy                           0.94      2000\n",
            "   macro avg       0.94      0.90      0.92      2000\n",
            "weighted avg       0.94      0.94      0.94      2000\n",
            "\n"
          ]
        }
      ]
    },
    {
      "cell_type": "code",
      "source": [
        "from google.colab import drive\n",
        "drive.mount('/content/drive')\n"
      ],
      "metadata": {
        "id": "Gzy4VWWZXukB",
        "colab": {
          "base_uri": "https://localhost:8080/"
        },
        "outputId": "faa1f71b-9a6b-4ff6-b141-ae22d9fb530b"
      },
      "id": "Gzy4VWWZXukB",
      "execution_count": null,
      "outputs": [
        {
          "output_type": "stream",
          "name": "stdout",
          "text": [
            "Mounted at /content/drive\n"
          ]
        }
      ]
    },
    {
      "cell_type": "code",
      "source": [
        "import pickle\n",
        "# Save model\n",
        "model.save('/content/drive/MyDrive/LSTM/Emotion Recognition.h5')\n",
        "\n",
        "# Save tokenizer and label encoder\n",
        "with open('/content/drive/MyDrive/LSTM/tokenizer.pickle', 'wb') as handle:\n",
        "    pickle.dump(tokenizer, handle, protocol=pickle.HIGHEST_PROTOCOL)\n",
        "\n",
        "with open('/content/drive/MyDrive/LSTM/label_encoder.pickle', 'wb') as handle:\n",
        "    pickle.dump(le, handle, protocol=pickle.HIGHEST_PROTOCOL)\n",
        "\n",
        "# Save training history\n",
        "with open('/content/drive/MyDrive/LSTM/training_history.pickle', 'wb') as handle:\n",
        "    pickle.dump(history.history, handle, protocol=pickle.HIGHEST_PROTOCOL)"
      ],
      "metadata": {
        "id": "G0ENIKBJVNnM",
        "colab": {
          "base_uri": "https://localhost:8080/"
        },
        "outputId": "5e91f2d3-261a-4732-9973-9113249ff66b"
      },
      "id": "G0ENIKBJVNnM",
      "execution_count": null,
      "outputs": [
        {
          "output_type": "stream",
          "name": "stderr",
          "text": [
            "/usr/local/lib/python3.10/dist-packages/keras/src/engine/training.py:3103: UserWarning: You are saving your model as an HDF5 file via `model.save()`. This file format is considered legacy. We recommend using instead the native Keras format, e.g. `model.save('my_model.keras')`.\n",
            "  saving_api.save_model(\n"
          ]
        }
      ]
    }
  ],
  "metadata": {
    "kernelspec": {
      "display_name": "Python 3",
      "language": "python",
      "name": "python3"
    },
    "language_info": {
      "codemirror_mode": {
        "name": "ipython",
        "version": 3
      },
      "file_extension": ".py",
      "mimetype": "text/x-python",
      "name": "python",
      "nbconvert_exporter": "python",
      "pygments_lexer": "ipython3",
      "version": "3.7.10"
    },
    "papermill": {
      "default_parameters": {},
      "duration": 4673.357634,
      "end_time": "2021-10-28T23:21:36.992863",
      "environment_variables": {},
      "exception": null,
      "input_path": "__notebook__.ipynb",
      "output_path": "__notebook__.ipynb",
      "parameters": {},
      "start_time": "2021-10-28T22:03:43.635229",
      "version": "2.3.3"
    },
    "colab": {
      "provenance": [],
      "machine_shape": "hm"
    }
  },
  "nbformat": 4,
  "nbformat_minor": 5
}